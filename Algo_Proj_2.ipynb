{
  "nbformat": 4,
  "nbformat_minor": 0,
  "metadata": {
    "colab": {
      "name": "Algo_Proj_2_Part_C_and_D.ipynb",
      "provenance": [],
      "collapsed_sections": []
    },
    "kernelspec": {
      "name": "python3",
      "display_name": "Python 3"
    },
    "accelerator": "GPU"
  },
  "cells": [
    {
      "cell_type": "code",
      "metadata": {
        "id": "ObGPqyfOHGP8",
        "outputId": "f5e1fd54-1cd8-414b-d116-28c5980fb938",
        "colab": {
          "base_uri": "https://localhost:8080/",
          "height": 54
        }
      },
      "source": [
        "import gzip\n",
        "from collections import defaultdict\n",
        "from re import findall\n",
        "def funz(gz_line):\n",
        "     return list(map(int, findall('[0-9]+', gz_line)))\n",
        "\n",
        "# import dictionary for graph\n",
        "# function for adding edge to graph\n",
        "graph = defaultdict(list)\n",
        "def create_adj_list(edge_list):\n",
        "  graph = defaultdict(list)\n",
        "  for i in range(0,len(edge_list)):\n",
        "    if (str(edge_list[i][0])!=str(edge_list[i][1])):\n",
        "      graph[str(edge_list[i][0])].append(str(edge_list[i][1]))\n",
        "  return graph\n",
        "\n",
        "cnt = 0\n",
        "edge_list = []\n",
        "with open('test.txt', 'rb') as f:\n",
        "  for line in f:\n",
        "    cnt+=1\n",
        "    if cnt > 4:\n",
        "      line=str(line)\n",
        "      edge_list.append(funz(line))\n",
        "\n",
        "\n",
        "graph = create_adj_list(edge_list)\n",
        "print(edge_list)"
      ],
      "execution_count": 52,
      "outputs": [
        {
          "output_type": "stream",
          "text": [
            "[[0, 0], [1, 2], [1, 4], [1, 3], [2, 7], [2, 5], [2, 1], [3, 5], [3, 6], [3, 1], [4, 1], [4, 5], [4, 6], [5, 7], [5, 3], [5, 2], [5, 4], [6, 4], [6, 3], [7, 5], [7, 2]]\n"
          ],
          "name": "stdout"
        }
      ]
    },
    {
      "cell_type": "code",
      "metadata": {
        "id": "nPSLVR8p0XLH",
        "outputId": "15ab5991-675a-4f37-f658-12c0b87e8781",
        "colab": {
          "base_uri": "https://localhost:8080/",
          "height": 70
        }
      },
      "source": [
        "filename = str(input(\"Enter graph file name with txt:\"))\n",
        "graph={}\n",
        "file1 =open(filename, 'r')\n",
        "for line in file1:\n",
        "\n",
        "    if '#' in line:\n",
        "        continue\n",
        "    else:\n",
        "        word = line.split()  ##can consider add h for only checking key by making new dictionary\n",
        "        graph.setdefault(str(word[0]),[]).append(str(word[1]))\n",
        "print(graph)"
      ],
      "execution_count": 53,
      "outputs": [
        {
          "output_type": "stream",
          "text": [
            "Enter graph file name with txt:test.txt\n",
            "{'0': ['0'], '1': ['2', '4', '3'], '2': ['7', '5', '1'], '3': ['5', '6', '1'], '4': ['1', '5', '6'], '5': ['7', '3', '2', '4'], '6': ['4', '3'], '7': ['5', '2']}\n"
          ],
          "name": "stdout"
        }
      ]
    },
    {
      "cell_type": "code",
      "metadata": {
        "id": "AQ5m0U7GH_SG",
        "outputId": "68d23e87-928e-4da5-807f-928d2aa4de2a",
        "colab": {
          "base_uri": "https://localhost:8080/",
          "height": 50
        }
      },
      "source": [
        "hosp =[]\n",
        "filename2 = str(input(\"Enter hospital file name with txt:\"))\n",
        "file2 =open(filename2, 'r')       #change filename to file2 for submission\n",
        "for line in file2:\n",
        "    if '#' in line:\n",
        "        continue\n",
        "    else:\n",
        "        hosp.append(str(line).rstrip())\n",
        "print(hosp)"
      ],
      "execution_count": 54,
      "outputs": [
        {
          "output_type": "stream",
          "text": [
            "Enter hospital file name with txt:testh1.txt\n",
            "['1', '2', '5']\n"
          ],
          "name": "stdout"
        }
      ]
    },
    {
      "cell_type": "code",
      "metadata": {
        "id": "FtMQ6Sfcqk1A"
      },
      "source": [
        "hosp=set(hosp)"
      ],
      "execution_count": 55,
      "outputs": []
    },
    {
      "cell_type": "code",
      "metadata": {
        "id": "b470kjWNKnMu"
      },
      "source": [
        "def bfs_goals_D(graph, start, hosp, k):\n",
        "\n",
        "    goals = []\n",
        "    queue1 = []\n",
        "    queue1.append(start)\n",
        "    seen = set()\n",
        "    seen.add(start)\n",
        "\n",
        " \n",
        "    while (len(queue1)>0) and (len(goals)<k):\n",
        "      vertex = queue1.pop(0)\n",
        "      nodes = graph[vertex]\n",
        "      for w in nodes:\n",
        "        if w not in seen:\n",
        "          queue1.append(w)\n",
        "          seen.add(w)\n",
        "      if vertex in hosp:\n",
        "        goals.append(vertex)\n",
        "        continue\n",
        "\n",
        " \n",
        "    return goals"
      ],
      "execution_count": 56,
      "outputs": []
    },
    {
      "cell_type": "code",
      "metadata": {
        "id": "5XuphS2eedhv"
      },
      "source": [
        "# finds shortest path between 2 nodes of a graph using BFS\n",
        "def bfs_shortest_path(graph, start, goal):\n",
        "    # keep track of explored nodes\n",
        "    explored = set()\n",
        "    # keep track of all the paths to be checked\n",
        "    queue = [[start]]\n",
        "\n",
        "    # return path if start is goal\n",
        "    if start == goal:\n",
        "        return \"Location is a hospital.\"\n",
        "\n",
        "    # keeps looping until all possible paths have been checked\n",
        "    while queue:\n",
        "        # pop the first path from the queue\n",
        "        path = queue.pop(0)\n",
        "        # get the last node from the path\n",
        "        node = path[-1]\n",
        "        if node not in explored:\n",
        "            neighbours = graph[node]\n",
        "            # go through all neighbour nodes, construct a new path and\n",
        "            # push it into the queue\n",
        "            for neighbour in neighbours:\n",
        "                new_path = list(path)\n",
        "                new_path.append(neighbour)\n",
        "                queue.append(new_path)\n",
        "                # return path if neighbour is goal\n",
        "                if neighbour == goal:\n",
        "                    return new_path\n",
        "\n",
        "            # mark node as explored\n",
        "            explored.add(node)\n",
        "\n",
        "    # in case there's no path between the 2 nodes\n",
        "    return \"So sorry, but a connecting path doesn't exist :(\"\n",
        "\n",
        "\n",
        " "
      ],
      "execution_count": 57,
      "outputs": []
    },
    {
      "cell_type": "code",
      "metadata": {
        "id": "b9LwzwgPnR0S"
      },
      "source": [
        "# finds shortest path between 2 nodes of a graph using BFS\n",
        "def bfs_shortest_path_D(graph, start, hosp, k):\n",
        "\n",
        "    goals = bfs_goals_D(graph, start, hosp, k)\n",
        "        \n",
        "    all_paths = ['no path exists']*k\n",
        "\n",
        "    \n",
        "    # keeps looping until all possible paths have been checked\n",
        "    for i in range(0, len(goals)):\n",
        "      shortpath = bfs_shortest_path(graph, start, goals[i])\n",
        "      all_paths[i]=shortpath\n",
        "\n",
        "    return all_paths"
      ],
      "execution_count": 58,
      "outputs": []
    },
    {
      "cell_type": "code",
      "metadata": {
        "id": "vGqedZS1nadL",
        "outputId": "89f42af0-b555-476e-c56d-44d47716c5af",
        "colab": {
          "base_uri": "https://localhost:8080/",
          "height": 50
        }
      },
      "source": [
        "import time\n",
        "\n",
        "k = int(input(\"Enter num of hosp:\"))\n",
        "start_time = time.time()\n",
        "for key in graph:\n",
        "  paths = bfs_shortest_path_D(graph, key, hosp, k)\n",
        "  for i in range(0,k):\n",
        "    outF = open(\"RealOutFile.txt\", \"a\") #rename file\n",
        "    if paths[i] == 'no path exists':\n",
        "      dist = 'no path exists'\n",
        "    elif paths[i] == 'Location is a hospital.':\n",
        "      dist=str(0)\n",
        "    else:\n",
        "      dist= str(len(paths[i])-1)\n",
        "    outF.write(str(key)+\" ,distance= \"+dist+\"\\n\")\n",
        "    outF.close()\n",
        "\n",
        "end_time = time.time()\n",
        "print(\"--- %s seconds ---\" % (time.time() - start_time))"
      ],
      "execution_count": 59,
      "outputs": [
        {
          "output_type": "stream",
          "text": [
            "Enter num of hosp:2\n",
            "--- 0.0007386207580566406 seconds ---\n"
          ],
          "name": "stdout"
        }
      ]
    },
    {
      "cell_type": "code",
      "metadata": {
        "id": "fp7759BxIEo6",
        "outputId": "73454d0d-9e76-4cd8-c8d1-65dea1443d63",
        "colab": {
          "base_uri": "https://localhost:8080/",
          "height": 151
        }
      },
      "source": [
        "for key in graph:\n",
        "  goals = bfs_shortest_path_D(graph, key, hosp, k)\n",
        "  print(goals)"
      ],
      "execution_count": 60,
      "outputs": [
        {
          "output_type": "stream",
          "text": [
            "['no path exists', 'no path exists']\n",
            "['Location is a hospital.', ['1', '2']]\n",
            "['Location is a hospital.', ['2', '5']]\n",
            "[['3', '5'], ['3', '1']]\n",
            "[['4', '1'], ['4', '5']]\n",
            "['Location is a hospital.', ['5', '2']]\n",
            "[['6', '4', '1'], ['6', '4', '5']]\n",
            "[['7', '5'], ['7', '2']]\n"
          ],
          "name": "stdout"
        }
      ]
    }
  ]
}